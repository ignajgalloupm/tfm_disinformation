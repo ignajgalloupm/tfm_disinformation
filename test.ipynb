{
 "cells": [
  {
   "cell_type": "code",
   "execution_count": 1,
   "metadata": {},
   "outputs": [],
   "source": [
    "%load_ext autoreload\n",
    "%autoreload 2\n",
    "from wiki_dataset import WikiDataset\n",
    "from vector_database import VectorDatabase\n",
    "from torch.utils.data import DataLoader\n",
    "from fever_dataset import FeverDataset, FeverCollator\n",
    "from embedding_generation import EmbeddingGenerator, NLI"
   ]
  },
  {
   "cell_type": "code",
   "execution_count": 2,
   "metadata": {},
   "outputs": [],
   "source": [
    "wiki_dataset = WikiDataset(reduced=True, type='dev', in_mem=True, num_extra_pages=0, seed=0)\n",
    "wiki_dataloader = DataLoader(wiki_dataset, batch_size=8192, num_workers=8, shuffle=False)"
   ]
  },
  {
   "cell_type": "code",
   "execution_count": 3,
   "metadata": {},
   "outputs": [
    {
     "name": "stdout",
     "output_type": "stream",
     "text": [
      "Creating collection\n",
      "Block 1/1 done\n",
      "Time to create collection: 193.605863571167\n"
     ]
    }
   ],
   "source": [
    "vdb = VectorDatabase(client='docker', wiki_loader=wiki_dataloader)"
   ]
  },
  {
   "cell_type": "code",
   "execution_count": 4,
   "metadata": {},
   "outputs": [
    {
     "name": "stderr",
     "output_type": "stream",
     "text": [
      "/home/ignacio/.local/lib/python3.10/site-packages/torch/utils/data/dataloader.py:558: UserWarning: This DataLoader will create 10 worker processes in total. Our suggested max number of worker in current system is 8, which is smaller than what this DataLoader is going to create. Please be aware that excessive worker creation might get DataLoader running slow or even freeze, lower the worker number to avoid potential slowness/freeze if necessary.\n",
      "  warnings.warn(_create_warning_msg(\n"
     ]
    }
   ],
   "source": [
    "fever_collator = FeverCollator()\n",
    "fever_dataset = FeverDataset(type='dev')\n",
    "fever_loader = DataLoader(fever_dataset, batch_size=32, num_workers=10, shuffle=False, collate_fn=fever_collator)\n",
    "\n",
    "emb_gen = EmbeddingGenerator()\n",
    "nli = NLI()"
   ]
  },
  {
   "cell_type": "code",
   "execution_count": 5,
   "metadata": {},
   "outputs": [
    {
     "data": {
      "text/plain": [
       "{'id': 194462,\n",
       " 'verifiable': 'NOT VERIFIABLE',\n",
       " 'label': 'NOT ENOUGH INFO',\n",
       " 'claim': 'Tilda Swinton is a vegan.',\n",
       " 'evidence': {'all_evidence': [None], 'unique_evidence': [set()]}}"
      ]
     },
     "execution_count": 5,
     "metadata": {},
     "output_type": "execute_result"
    }
   ],
   "source": [
    "fever_dataset[1]"
   ]
  },
  {
   "cell_type": "code",
   "execution_count": null,
   "metadata": {},
   "outputs": [],
   "source": [
    "device = torch.device('cuda' if torch.cuda.is_available() else 'cpu')"
   ]
  },
  {
   "cell_type": "code",
   "execution_count": null,
   "metadata": {},
   "outputs": [],
   "source": [
    "from sklearn.metrics import f1_score\n",
    "import numpy as np\n",
    "import matplotlib.pyplot as plt\n",
    "\n",
    "\n"
   ]
  },
  {
   "cell_type": "code",
   "execution_count": 20,
   "metadata": {},
   "outputs": [
    {
     "name": "stdout",
     "output_type": "stream",
     "text": [
      "tensor([1, 0, 0, 0, 1, 0, 0, 0, 1, 1, 0, 0, 0, 1, 0, 0, 1, 0, 0, 0, 1, 0, 0, 0,\n",
      "        0, 0, 0, 1, 1, 1, 1, 0], device='cuda:0')\n",
      "tensor([False, False,  True, False,  True,  True,  True,  True, False,  True,\n",
      "        False, False,  True,  True,  True,  True,  True, False, False,  True,\n",
      "         True, False,  True,  True,  True,  True, False,  True, False, False,\n",
      "         True,  True])\n"
     ]
    }
   ],
   "source": [
    "for i, batch in enumerate(fever_loader):\n",
    "    valid_step(batch, emb_gen, nli)\n",
    "    break"
   ]
  }
 ],
 "metadata": {
  "kernelspec": {
   "display_name": "Python 3",
   "language": "python",
   "name": "python3"
  },
  "language_info": {
   "codemirror_mode": {
    "name": "ipython",
    "version": 3
   },
   "file_extension": ".py",
   "mimetype": "text/x-python",
   "name": "python",
   "nbconvert_exporter": "python",
   "pygments_lexer": "ipython3",
   "version": "3.10.12"
  }
 },
 "nbformat": 4,
 "nbformat_minor": 2
}
