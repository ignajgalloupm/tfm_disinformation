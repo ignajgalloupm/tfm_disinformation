{
 "cells": [
  {
   "cell_type": "code",
   "execution_count": 1,
   "metadata": {},
   "outputs": [],
   "source": [
    "%load_ext autoreload\n",
    "%autoreload 2\n",
    "from wiki_dataset import WikiDataset\n",
    "from vector_database import VectorDatabase\n",
    "from torch.utils.data import DataLoader\n",
    "from fever_dataset import FeverDataset, FeverCollator\n",
    "from embedding_generation import EmbeddingGenerator, NLI"
   ]
  },
  {
   "cell_type": "code",
   "execution_count": 2,
   "metadata": {},
   "outputs": [],
   "source": [
    "wiki_dataset = WikiDataset(reduced=True, type='dev', in_mem=True, num_extra_pages=0, seed=0)\n",
    "wiki_dataloader = DataLoader(wiki_dataset, batch_size=8192, num_workers=8, shuffle=False)"
   ]
  },
  {
   "cell_type": "code",
   "execution_count": 3,
   "metadata": {},
   "outputs": [
    {
     "name": "stdout",
     "output_type": "stream",
     "text": [
      "Creating collection\n",
      "Block 1/1 done\n",
      "Time to create collection: 9.688613176345825\n"
     ]
    }
   ],
   "source": [
    "vdb = VectorDatabase(client='docker', wiki_loader=wiki_dataloader)"
   ]
  },
  {
   "cell_type": "code",
   "execution_count": 19,
   "metadata": {},
   "outputs": [],
   "source": [
    "fever_collator = FeverCollator()\n",
    "fever_dataset = FeverDataset(type='dev')\n",
    "fever_loader = DataLoader(fever_dataset, batch_size=32, num_workers=10, shuffle=False, collate_fn=fever_collator)\n",
    "\n",
    "emb_gen = EmbeddingGenerator()\n",
    "nli = NLI()"
   ]
  },
  {
   "cell_type": "code",
   "execution_count": 20,
   "metadata": {},
   "outputs": [
    {
     "data": {
      "text/plain": [
       "{'id': 194462,\n",
       " 'verifiable': 'NOT VERIFIABLE',\n",
       " 'label': 'NOT ENOUGH INFO',\n",
       " 'claim': 'Tilda Swinton is a vegan.',\n",
       " 'evidence': {'all_evidence': [None], 'unique_evidence': [set()]}}"
      ]
     },
     "execution_count": 20,
     "metadata": {},
     "output_type": "execute_result"
    }
   ],
   "source": [
    "fever_dataset[1]"
   ]
  },
  {
   "cell_type": "code",
   "execution_count": 32,
   "metadata": {},
   "outputs": [
    {
     "data": {
      "text/plain": [
       "[3, 2, 1]"
      ]
     },
     "execution_count": 32,
     "metadata": {},
     "output_type": "execute_result"
    }
   ],
   "source": [
    "l = [[1, 2, 3], [4, 5, 6], [7, 8, 9]]\n",
    "l = [item for sublist in l for item in sublist]"
   ]
  },
  {
   "cell_type": "code",
   "execution_count": 99,
   "metadata": {},
   "outputs": [
    {
     "name": "stdout",
     "output_type": "stream",
     "text": [
      "tensor(0.1944, device='cuda:0')\n",
      "tensor(0.7065, device='cuda:0', dtype=torch.float16)\n",
      "{'preds': tensor([0, 0, 0, 1, 0, 0, 0, 0, 0, 0, 0, 0, 0, 0, 0, 0, 0, 0, 0, 0, 0, 0, 0, 0,\n",
      "        0, 0, 0, 0, 0, 0, 0, 0], device='cuda:0'), 'targets': array([0., 0., 1., 0., 1., 1., 1., 1., 0., 1., 0., 0., 1., 1., 1., 1., 1.,\n",
      "       0., 0., 1., 1., 0., 1., 1., 1., 1., 0., 1., 0., 0., 1., 1.],\n",
      "      dtype=float16), 'target_changes': [True, True, True, True, True, True, True, True, True, True, True, True, True, True, True, True, True, True, True, True, True, True, True, True, True, True, False, True, True, True, True, True], 'precentage_retrieved': [0.0, 0.0, 1.0, 0.0, 0.5, 1.0, 1.0, 1.0, 0.0, 1.0, 0.0, 0.0, 1.0, 1.0, 1.0, 1.0, 1.0, 0.0, 0.0, 1.0, 1.0, 0.0, 1.0, 1.0, 1.0, 1.0, 0.0, 1.0, 0.0, 0.0, 1.0, 1.0]}\n"
     ]
    }
   ],
   "source": [
    "import torch\n",
    "from train_eval_utils import get_target_changes, get_negative_examples\n",
    "import numpy as np\n",
    "from sklearn.metrics import f1_score\n",
    "\n",
    "PAGES_RETRIEVED = 50\n",
    "PAGES_FOR_EVIDENCE = 10\n",
    "\n",
    "device = torch.device('cuda' if torch.cuda.is_available() else 'cpu')\n",
    "loss_fn1 = torch.nn.CosineEmbeddingLoss()\n",
    "loss_fn2 = torch.nn.BCELoss()\n",
    "\n",
    "# get embeddings of the claims\n",
    "\n",
    "for input_batch in fever_loader:\n",
    "    batch_size = len(input_batch['claims'])\n",
    "    with torch.no_grad():\n",
    "        outputs = emb_gen(input_batch['claims'])\n",
    "\n",
    "    # search for similar pages\n",
    "    similar_pages = vdb.search_similar(outputs, PAGES_RETRIEVED)\n",
    "    #print(similar_pages)\n",
    "    similar_texts = [[t.payload['text'] for t in s] for s in similar_pages]\n",
    "    similar_ids = [[t.payload['id'] for t in s] for s in similar_pages]\n",
    "    similar_embeds = [[t.vector for t in s[:PAGES_FOR_EVIDENCE]] for s in similar_pages]\n",
    "\n",
    "    target_changes, precentage_retrieved = get_target_changes(input_batch, similar_ids, PAGES_FOR_EVIDENCE)\n",
    "    nli_targets = [v == 'VERIFIABLE' for v in input_batch['verifiable']]\n",
    "\n",
    "    # dinamically change the target\n",
    "    #---------------------------------- only training\n",
    "    nli_targets = [int(t and tc) for t, tc in zip(nli_targets, target_changes)]\n",
    "    #---------------------------------- only training\n",
    "\n",
    "    all_evidence = [r['all_evidence'] if r['all_evidence'] != [None] else [] for r in input_batch['evidence']]\n",
    "    evidence_pages = [vdb.search_ids(all_evidence[i]) for i in range(batch_size)]\n",
    "    evidence_texts = [[t.payload['text'] for t in s] for s in evidence_pages]\n",
    "    # pick as negative examples the texts of the last len(evidence_texts) of the 50 retrieved pages\n",
    "    negative_examples = get_negative_examples(similar_texts, similar_ids, all_evidence)\n",
    "\n",
    "    # combine all the batches\n",
    "    unfolded_outputs = []\n",
    "    unfolded_combined_texts = []\n",
    "    unfolded_labels = []\n",
    "    for i in range(batch_size):\n",
    "        unfolded_outputs.extend([outputs[i]] * len(evidence_texts[i] + negative_examples[i]))\n",
    "        unfolded_combined_texts.extend(evidence_texts[i] + negative_examples[i])\n",
    "        unfolded_labels.extend([1] * len(evidence_texts[i]) + [0] * len(negative_examples[i]))\n",
    "    \n",
    "    # encode the combined texts in batches\n",
    "    combined_embeddings = []\n",
    "    for i in range(0, len(unfolded_combined_texts), batch_size):\n",
    "        with torch.no_grad():\n",
    "            combined_embeddings.extend(emb_gen(unfolded_combined_texts[i:i+batch_size]))\n",
    "\n",
    "    combined_embeddings = torch.tensor(combined_embeddings).to(device)\n",
    "    unfolded_outputs = torch.tensor(unfolded_outputs).to(device)\n",
    "    unfolded_labels = torch.tensor(unfolded_labels).to(device)\n",
    "\n",
    "    loss1 = loss_fn1(combined_embeddings, unfolded_outputs, unfolded_labels)\n",
    "    print(loss1)\n",
    "\n",
    "\n",
    "    # input for the NLI model\n",
    "    outputs = torch.tensor(outputs).unsqueeze(1).to(device)\n",
    "    similar_embeds = torch.tensor(similar_embeds).to(device)\n",
    "\n",
    "    # concat the output of the embedding generator\n",
    "    nli_inputs = torch.cat([outputs, similar_embeds], dim=1)\n",
    "\n",
    "    with torch.no_grad():\n",
    "        nli_outputs = nli(nli_inputs.half())\n",
    "    \n",
    "    preds = torch.argmax(nli_outputs, dim=1)\n",
    "    targets = torch.tensor(nli_targets).half().to(device)\n",
    "\n",
    "    # nli_outputs is 32,2 keep only the 1\n",
    "    nli_outputs = nli_outputs[:, 1]\n",
    "\n",
    "    # Convert lists of tensors to tensors\n",
    "    loss2 = loss_fn2(nli_outputs, targets)\n",
    "    print(loss2)\n",
    "\n",
    "    # calculate the f1 score, we apply a sigmoid to the output if the loss function is BCEWithLogitsLoss\n",
    "    if loss_fn2.__class__.__name__ == 'BCEWithLogitsLoss':\n",
    "        nli_outputs = torch.sigmoid(nli_outputs)\n",
    "    nli_outputs = nli_outputs.detach().cpu().numpy()\n",
    "    targets = targets.detach().cpu().numpy()\n",
    "    f1 = f1_score(targets, (nli_outputs > 0.5).astype(int), average='macro')\n",
    "\n",
    "    result = {'preds': preds, 'targets': targets, 'target_changes': target_changes, 'precentage_retrieved': precentage_retrieved}\n",
    "\n",
    "    print(result)\n",
    "    break"
   ]
  }
 ],
 "metadata": {
  "kernelspec": {
   "display_name": "Python 3",
   "language": "python",
   "name": "python3"
  },
  "language_info": {
   "codemirror_mode": {
    "name": "ipython",
    "version": 3
   },
   "file_extension": ".py",
   "mimetype": "text/x-python",
   "name": "python",
   "nbconvert_exporter": "python",
   "pygments_lexer": "ipython3",
   "version": "3.10.12"
  }
 },
 "nbformat": 4,
 "nbformat_minor": 2
}
