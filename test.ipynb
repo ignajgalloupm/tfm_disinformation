{
 "cells": [
  {
   "cell_type": "code",
   "execution_count": 1,
   "metadata": {},
   "outputs": [],
   "source": [
    "from wiki_dataset import WikiDataset\n",
    "from vector_database import VectorDatabase\n",
    "from torch.utils.data import DataLoader\n",
    "from fever_dataset import FeverDataset, FeverCollator\n",
    "from embedding_generation import EmbeddingGenerator"
   ]
  },
  {
   "cell_type": "code",
   "execution_count": 2,
   "metadata": {},
   "outputs": [],
   "source": [
    "wiki_dataset = WikiDataset(reduced=True, type='train', in_mem=True, num_extra_pages=0)\n",
    "wiki_dataloader = DataLoader(wiki_dataset, batch_size=8000, num_workers=10, shuffle=False)"
   ]
  },
  {
   "cell_type": "code",
   "execution_count": 3,
   "metadata": {},
   "outputs": [
    {
     "name": "stdout",
     "output_type": "stream",
     "text": [
      "Creating collection\n",
      "Block 1/2 done\n",
      "Block 2/2 done\n",
      "Time to create collection: 17.517935037612915\n"
     ]
    }
   ],
   "source": [
    "vdb = VectorDatabase(client='docker', wiki_loader=wiki_dataloader)"
   ]
  },
  {
   "cell_type": "code",
   "execution_count": 4,
   "metadata": {},
   "outputs": [],
   "source": [
    "# Load model directly\n",
    "from transformers import AutoTokenizer, AutoModelForMaskedLM\n",
    "\n",
    "tokenizer = AutoTokenizer.from_pretrained(\"sentence-transformers/all-mpnet-base-v2\")\n",
    "\n",
    "fever_collator = FeverCollator(tokenizer)\n",
    "fever_dataset = FeverDataset(type='train')\n",
    "fever_loader = DataLoader(fever_dataset, batch_size=32, num_workers=10, shuffle=True, collate_fn=fever_collator)\n",
    "\n",
    "model = EmbeddingGenerator()"
   ]
  },
  {
   "cell_type": "code",
   "execution_count": 5,
   "metadata": {},
   "outputs": [
    {
     "data": {
      "text/plain": [
       "{'id': 75397,\n",
       " 'verifiable': 'VERIFIABLE',\n",
       " 'label': 'SUPPORTS',\n",
       " 'claim': 'Nikolaj Coster-Waldau worked with the Fox Broadcasting Company.',\n",
       " 'evidence': [[[92206, 104971, 'Nikolaj_Coster-Waldau', 7],\n",
       "   [92206, 104971, 'Fox_Broadcasting_Company', 0]]]}"
      ]
     },
     "execution_count": 5,
     "metadata": {},
     "output_type": "execute_result"
    }
   ],
   "source": [
    "fever_dataset[0]"
   ]
  },
  {
   "cell_type": "code",
   "execution_count": 7,
   "metadata": {},
   "outputs": [
    {
     "ename": "ValidationError",
     "evalue": "4 validation errors for SearchRequest\nvector.list[float]\n  Input should be a valid list [type=list_type, input_value=None, input_type=NoneType]\n    For further information visit https://errors.pydantic.dev/2.5/v/list_type\nvector.NamedVector\n  Input should be a valid dictionary or instance of NamedVector [type=model_type, input_value=None, input_type=NoneType]\n    For further information visit https://errors.pydantic.dev/2.5/v/model_type\nvector.NamedSparseVector\n  Input should be a valid dictionary or instance of NamedSparseVector [type=model_type, input_value=None, input_type=NoneType]\n    For further information visit https://errors.pydantic.dev/2.5/v/model_type\nfilter\n  Input should be a valid dictionary or instance of Filter [type=model_type, input_value=('should', None), input_type=tuple]\n    For further information visit https://errors.pydantic.dev/2.5/v/model_type",
     "output_type": "error",
     "traceback": [
      "\u001b[0;31m---------------------------------------------------------------------------\u001b[0m",
      "\u001b[0;31mValidationError\u001b[0m                           Traceback (most recent call last)",
      "Cell \u001b[0;32mIn [7], line 1\u001b[0m\n\u001b[0;32m----> 1\u001b[0m \u001b[43mvdb\u001b[49m\u001b[38;5;241;43m.\u001b[39;49m\u001b[43msearch_ids\u001b[49m\u001b[43m(\u001b[49m\u001b[43m[\u001b[49m\u001b[38;5;124;43m'\u001b[39;49m\u001b[38;5;124;43mNikolaj_Coster-Waldau\u001b[39;49m\u001b[38;5;124;43m'\u001b[39;49m\u001b[43m,\u001b[49m\u001b[43m \u001b[49m\u001b[38;5;124;43m'\u001b[39;49m\u001b[38;5;124;43mFox_Broadcasting_Company\u001b[39;49m\u001b[38;5;124;43m'\u001b[39;49m\u001b[43m]\u001b[49m\u001b[43m)\u001b[49m\n",
      "File \u001b[0;32m/mnt/D45A32A35A328272/TFM/vector_database.py:89\u001b[0m, in \u001b[0;36mVectorDatabase.search_ids\u001b[0;34m(self, ids)\u001b[0m\n\u001b[1;32m     84\u001b[0m \u001b[38;5;66;03m#filter = [models.FieldCondition(key=\"id\", match=models.MatchText(text=id)) for id in ids]\u001b[39;00m\n\u001b[1;32m     86\u001b[0m \u001b[38;5;28mfilter\u001b[39m \u001b[38;5;241m=\u001b[39m models\u001b[38;5;241m.\u001b[39mFilter(must\u001b[38;5;241m=\u001b[39m[models\u001b[38;5;241m.\u001b[39mFieldCondition(key\u001b[38;5;241m=\u001b[39m\u001b[38;5;124m\"\u001b[39m\u001b[38;5;124mid\u001b[39m\u001b[38;5;124m\"\u001b[39m, match\u001b[38;5;241m=\u001b[39mmodels\u001b[38;5;241m.\u001b[39mMatchText(text\u001b[38;5;241m=\u001b[39m\u001b[38;5;28mid\u001b[39m)) \u001b[38;5;28;01mfor\u001b[39;00m \u001b[38;5;28mid\u001b[39m \u001b[38;5;129;01min\u001b[39;00m ids])\n\u001b[0;32m---> 89\u001b[0m queries \u001b[38;5;241m=\u001b[39m [models\u001b[38;5;241m.\u001b[39mSearchRequest(vector\u001b[38;5;241m=\u001b[39m\u001b[38;5;28;01mNone\u001b[39;00m, limit\u001b[38;5;241m=\u001b[39m\u001b[38;5;28mlen\u001b[39m(ids), with_payload\u001b[38;5;241m=\u001b[39m\u001b[38;5;28;01mTrue\u001b[39;00m, \u001b[38;5;28mfilter\u001b[39m\u001b[38;5;241m=\u001b[39mf) \u001b[38;5;28;01mfor\u001b[39;00m f \u001b[38;5;129;01min\u001b[39;00m \u001b[38;5;28mfilter\u001b[39m]\n\u001b[1;32m     90\u001b[0m results \u001b[38;5;241m=\u001b[39m \u001b[38;5;28mself\u001b[39m\u001b[38;5;241m.\u001b[39mclient\u001b[38;5;241m.\u001b[39msearch(collection_name\u001b[38;5;241m=\u001b[39m\u001b[38;5;28mself\u001b[39m\u001b[38;5;241m.\u001b[39mcollection, requests\u001b[38;5;241m=\u001b[39m[queries])\n\u001b[1;32m     91\u001b[0m \u001b[38;5;28;01mreturn\u001b[39;00m results\n",
      "File \u001b[0;32m/mnt/D45A32A35A328272/TFM/vector_database.py:89\u001b[0m, in \u001b[0;36m<listcomp>\u001b[0;34m(.0)\u001b[0m\n\u001b[1;32m     84\u001b[0m \u001b[38;5;66;03m#filter = [models.FieldCondition(key=\"id\", match=models.MatchText(text=id)) for id in ids]\u001b[39;00m\n\u001b[1;32m     86\u001b[0m \u001b[38;5;28mfilter\u001b[39m \u001b[38;5;241m=\u001b[39m models\u001b[38;5;241m.\u001b[39mFilter(must\u001b[38;5;241m=\u001b[39m[models\u001b[38;5;241m.\u001b[39mFieldCondition(key\u001b[38;5;241m=\u001b[39m\u001b[38;5;124m\"\u001b[39m\u001b[38;5;124mid\u001b[39m\u001b[38;5;124m\"\u001b[39m, match\u001b[38;5;241m=\u001b[39mmodels\u001b[38;5;241m.\u001b[39mMatchText(text\u001b[38;5;241m=\u001b[39m\u001b[38;5;28mid\u001b[39m)) \u001b[38;5;28;01mfor\u001b[39;00m \u001b[38;5;28mid\u001b[39m \u001b[38;5;129;01min\u001b[39;00m ids])\n\u001b[0;32m---> 89\u001b[0m queries \u001b[38;5;241m=\u001b[39m [\u001b[43mmodels\u001b[49m\u001b[38;5;241;43m.\u001b[39;49m\u001b[43mSearchRequest\u001b[49m\u001b[43m(\u001b[49m\u001b[43mvector\u001b[49m\u001b[38;5;241;43m=\u001b[39;49m\u001b[38;5;28;43;01mNone\u001b[39;49;00m\u001b[43m,\u001b[49m\u001b[43m \u001b[49m\u001b[43mlimit\u001b[49m\u001b[38;5;241;43m=\u001b[39;49m\u001b[38;5;28;43mlen\u001b[39;49m\u001b[43m(\u001b[49m\u001b[43mids\u001b[49m\u001b[43m)\u001b[49m\u001b[43m,\u001b[49m\u001b[43m \u001b[49m\u001b[43mwith_payload\u001b[49m\u001b[38;5;241;43m=\u001b[39;49m\u001b[38;5;28;43;01mTrue\u001b[39;49;00m\u001b[43m,\u001b[49m\u001b[43m \u001b[49m\u001b[38;5;28;43mfilter\u001b[39;49m\u001b[38;5;241;43m=\u001b[39;49m\u001b[43mf\u001b[49m\u001b[43m)\u001b[49m \u001b[38;5;28;01mfor\u001b[39;00m f \u001b[38;5;129;01min\u001b[39;00m \u001b[38;5;28mfilter\u001b[39m]\n\u001b[1;32m     90\u001b[0m results \u001b[38;5;241m=\u001b[39m \u001b[38;5;28mself\u001b[39m\u001b[38;5;241m.\u001b[39mclient\u001b[38;5;241m.\u001b[39msearch(collection_name\u001b[38;5;241m=\u001b[39m\u001b[38;5;28mself\u001b[39m\u001b[38;5;241m.\u001b[39mcollection, requests\u001b[38;5;241m=\u001b[39m[queries])\n\u001b[1;32m     91\u001b[0m \u001b[38;5;28;01mreturn\u001b[39;00m results\n",
      "File \u001b[0;32m~/.local/lib/python3.10/site-packages/pydantic/main.py:164\u001b[0m, in \u001b[0;36mBaseModel.__init__\u001b[0;34m(__pydantic_self__, **data)\u001b[0m\n\u001b[1;32m    162\u001b[0m \u001b[38;5;66;03m# `__tracebackhide__` tells pytest and some other tools to omit this function from tracebacks\u001b[39;00m\n\u001b[1;32m    163\u001b[0m __tracebackhide__ \u001b[38;5;241m=\u001b[39m \u001b[38;5;28;01mTrue\u001b[39;00m\n\u001b[0;32m--> 164\u001b[0m \u001b[43m__pydantic_self__\u001b[49m\u001b[38;5;241;43m.\u001b[39;49m\u001b[43m__pydantic_validator__\u001b[49m\u001b[38;5;241;43m.\u001b[39;49m\u001b[43mvalidate_python\u001b[49m\u001b[43m(\u001b[49m\u001b[43mdata\u001b[49m\u001b[43m,\u001b[49m\u001b[43m \u001b[49m\u001b[43mself_instance\u001b[49m\u001b[38;5;241;43m=\u001b[39;49m\u001b[43m__pydantic_self__\u001b[49m\u001b[43m)\u001b[49m\n",
      "\u001b[0;31mValidationError\u001b[0m: 4 validation errors for SearchRequest\nvector.list[float]\n  Input should be a valid list [type=list_type, input_value=None, input_type=NoneType]\n    For further information visit https://errors.pydantic.dev/2.5/v/list_type\nvector.NamedVector\n  Input should be a valid dictionary or instance of NamedVector [type=model_type, input_value=None, input_type=NoneType]\n    For further information visit https://errors.pydantic.dev/2.5/v/model_type\nvector.NamedSparseVector\n  Input should be a valid dictionary or instance of NamedSparseVector [type=model_type, input_value=None, input_type=NoneType]\n    For further information visit https://errors.pydantic.dev/2.5/v/model_type\nfilter\n  Input should be a valid dictionary or instance of Filter [type=model_type, input_value=('should', None), input_type=tuple]\n    For further information visit https://errors.pydantic.dev/2.5/v/model_type"
     ]
    }
   ],
   "source": [
    "vdb.search_ids(['Nikolaj_Coster-Waldau', 'Fox_Broadcasting_Company'])"
   ]
  },
  {
   "cell_type": "code",
   "execution_count": 11,
   "metadata": {},
   "outputs": [],
   "source": [
    "import torch\n",
    "from torch.cuda.amp import autocast\n",
    "\n",
    "device = torch.device('cuda' if torch.cuda.is_available() else 'cpu')\n",
    "\n",
    "# performs a single validation step\n",
    "def valid_step(input_batch, model):\n",
    "    with torch.no_grad():\n",
    "        with autocast():\n",
    "            outputs = model(input_batch['claims'])\n",
    "    similar_texts = vdb.search_similar(outputs, 1)\n",
    "    for s, r in zip(similar_texts, input_batch['claims']):\n",
    "        print(r)\n",
    "        print(s)\n",
    "    return outputs#, targets"
   ]
  },
  {
   "cell_type": "code",
   "execution_count": 12,
   "metadata": {},
   "outputs": [
    {
     "name": "stdout",
     "output_type": "stream",
     "text": [
      "Bill Cosby has been deemed innocent of drug facilitated sexual assault.\n",
      "[ScoredPoint(id=50851, version=138, score=0.24123931, payload={'id': 'HIV/AIDS_in_Senegal', 'text': 'Senegal has a low prevalence of HIV , at under 1 % of the adult population . '}, vector=None, shard_key=None)]\n",
      "Wentworth is a series for television.\n",
      "[ScoredPoint(id=50481, version=132, score=0.37508267, payload={'id': 'Getsuku', 'text': 'is a Japanese abbreviation for . This is traditionally the time when the most popular TV dramas air in Japan . '}, vector=None, shard_key=None)]\n",
      "Floyd Mayweather Jr. is an American promoter.\n",
      "[ScoredPoint(id=102294, version=285, score=0.45633596, payload={'id': 'Serafim_Todorov', 'text': 'Serafim Simeonov Todorov -LRB- Серафим Симеонов Тодоров born 6 July 1969 -RRB- is a Bulgarian former amateur boxer . He won three consecutive gold medals at both the World and European Championships , and silver at the 1996 Olympics . He is the last boxer to defeat Floyd Mayweather Jr. , who later went on to become one of the all-time greatest in professional boxing . '}, vector=None, shard_key=None)]\n",
      "That '70s Show is a film sitcom.\n",
      "[ScoredPoint(id=2095, version=32, score=0.40239868, payload={'id': 'All_That_Glitters_-LRB-TV_series-RRB-', 'text': \"All That Glitters is an American sitcom by producer Norman Lear . It consisted of 65 episodes and aired between April 18 and July 15 , 1977 in broadcast syndication . The show , a spoof of the soap opera format , depicted the trials and tribulations of a group of executives at the Globatron corporation . The twist of the series was that it was set within a world of complete role-reversal : Women were the `` stronger sex , '' the executives and breadwinners , while the `` weaker sex '' -- the men -- were the secretaries or stay-at-home househusbands . Men were often treated as sex objects .   The series features Eileen Brennan , Greg Evigan , Lois Nettleton , Gary Sandy , Tim Thomerson and Jessica Walter . Comic actor and cartoon voice artist Chuck McCann was also a regular . Linda Gray played transgender fashion model Linda Murkland , the first transgender series regular on American television . Critically , All That Glitters was negatively received and a ratings disappointment across syndicated television networks . \"}, vector=None, shard_key=None)]\n",
      "Sleeping Beauty premiered on a date between May 11 and 22, 2011.\n",
      "[ScoredPoint(id=5368, version=83, score=0.36564434, payload={'id': 'Costume_Designers_Guild_Awards_2010', 'text': \"13th CDG Awards  February 22 , 2011   Contemporary : Black Swan   Period : The King 's Speech   Fantasy : Alice in Wonderland  The 13th Costume Designers Guild Awards , honoring the best costume designs in film and television for 2010 , were given on February 22 , 2011 at the Beverly Hilton Hotel in Beverly Hills . The nominees were announced on January 21 , 2011 . \"}, vector=None, shard_key=None)]\n",
      "License to Wed is a romance couple.\n",
      "[ScoredPoint(id=56035, version=219, score=0.48736793, payload={'id': 'Marriage_Story', 'text': 'Marriage Story is a 1992 South Korean film . It was the fourth most highly attended Korean film between 1990 and 1995 . '}, vector=None, shard_key=None)]\n",
      "As You Like It stars Janet McTeer as a character.\n",
      "[ScoredPoint(id=1974, version=30, score=0.44324684, payload={'id': 'All_Men_Are_the_Same', 'text': 'All Men Are the Same -LRB- Todos los hombres sois iguales -RRB- is a 1994 Spanish comedy film directed by Manuel Gómez Pereira . '}, vector=None, shard_key=None)]\n",
      "Bradley Cooper portrayed a rookie police officer in the crime drama The Place Beyond the Pines.\n",
      "[ScoredPoint(id=104157, version=314, score=0.54362077, payload={'id': 'The_Place_Beyond_the_Pines', 'text': \"The Place Beyond the Pines is a 2012 American crime drama film directed by Derek Cianfrance and written by Cianfrance , Ben Coccio , and Darius Marder . It stars Ryan Gosling , Bradley Cooper , Eva Mendes , Emory Cohen and Dane DeHaan , with Ben Mendelsohn , Rose Byrne , Mahershala Ali , Bruce Greenwood , Harris Yulin , and Ray Liotta in supporting roles . The film reunites Cianfrance and Gosling , who worked together on 2010 's Blue Valentine . The film was scored by Mike Patton and also featured previously written music by Estonian composer Arvo Pärt . The title is the English meaning of the city of Schenectady , New York , which is derived loosely from a Mohawk word for `` place beyond the pine plains . '' \"}, vector=None, shard_key=None)]\n",
      "Paranormal pertains to ESP abilities.\n",
      "[ScoredPoint(id=3440, version=53, score=0.47430468, payload={'id': 'Benjamin_Radford', 'text': \"Benjamin Radford -LRB- born October 2 , 1970 -RRB- is an American writer and skeptic . He has authored , coauthored or contributed to over twenty books and written over a thousand articles and columns on a wide variety of topics including urban legends , unexplained mysteries , the paranormal , critical thinking , mass hysteria , and media literacy . His book , Mysterious New Mexico : Miracles , Magic , and Monsters in the Land of Enchantment , was published in the summer of 2014 and is a scientific investigation of famous legends and folklore in the state of New Mexico . In 2016 Radford published Bad Clowns , a 2017 IPPY bronze award winner , and he is regarded as an expert on the bad clowns phenomenon .   Radford has appeared on Good Morning America , CNN , The History Channel , the National Geographic Channel , the Learning Channel , CBC , BBC , ABC News , The New York Times , and many other outlets .   Radford characterizes himself as one of the world 's few science-based paranormal investigators , and has done first-hand research into psychics , ghosts , exorcisms , miracles , Bigfoot , stigmata , lake monsters , UFO sightings , reincarnation , crop circles , and other topics . `` I 'm open-minded . I never said I do n't believe ghosts exist . But I can say I 've looked at the research that 's been done , and I 've done personal investigations . In each particular case there either is or is n't good , compelling evidence , and so far I have n't seen it . ''   He regularly speaks at universities and conferences across the country about his research . Radford 's books and investigations have been incorporated into several college and university courses on critical thinking , including at Western Washington University and the University of New Mexico .   Radford is also a contributor to the Snopes.com urban legends web site , where he has researched and written articles debunking fakelore and a variety of popular myths including The Amityville Horror and the claim that humans only use 10 % of their brains . \"}, vector=None, shard_key=None)]\n",
      "Helen Hunt directed three plays at her children's middle school.\n",
      "[ScoredPoint(id=51312, version=145, score=0.4330817, payload={'id': 'Helen_LaKelly_Hunt', 'text': \"Helen LaKelly Hunt -LRB- born 1949 -RRB- is a daughter of H. L. Hunt . She grew up in Dallas , Texas , where she graduated from the Hockaday School and Southern Methodist University . She also has a master 's degree in clinical psychology and a Ph.D. in church history .   She is founder and president of The Sister Fund , which describes itself as `` a private women 's fund dedicated to the social , political , economic , and spiritual empowerment of women and girls . ''   Hunt currently lives in Dallas , Texas with her husband , Harville Hendrix , a self-help author .   Hunt was inducted into the National Women 's Hall of Fame , which cited her as a '' -LSB- c -RSB- reative philanthropist who has used her own resources and others to create women 's funding institutions . ''   Helen LaKelly Hunt along with her husband developed Imago Relationship Therapy . Their son , Hunter Hunt-Hendrix , is the vocalist of the American black metal band Liturgy and their daughter , Leah Hunt-Hendrix , is an Occupy movement activist . \"}, vector=None, shard_key=None)]\n",
      "Jeff Bezos was born in the month of January.\n",
      "[ScoredPoint(id=314, version=3, score=0.38738108, payload={'id': '1544', 'text': '__ NOTOC __  Year 1544 -LRB- MDXLIV -RRB- was a leap year starting on Tuesday -LRB- link will display the full calendar -RRB- of the Julian calendar . '}, vector=None, shard_key=None)]\n",
      "The Americans premiered on FX in 2013.\n",
      "[ScoredPoint(id=103908, version=312, score=0.6623714, payload={'id': 'The_Americans_-LRB-1961_TV_series-RRB-', 'text': 'The Americans is a 17-episode American drama television series that aired on NBC from January to May 1961 . Set during the American Civil War , the series focuses on two brothers fighting on opposite sides of the conflict . Guest stars included Lee Marvin , Jack Elam , Brian Keith , Kathleen Crowley and Robert Redford , among many others . '}, vector=None, shard_key=None)]\n",
      "Christian Bale's middle name is Charles and he is successful.\n",
      "[ScoredPoint(id=4804, version=75, score=0.51122266, payload={'id': 'Charles_Bannister', 'text': 'Charles Bannister -LRB- 1738 -- 1804 -RRB- was an English actor and singer . '}, vector=None, shard_key=None)]\n",
      "Christopher Columbus did work for monarchs.\n",
      "[ScoredPoint(id=52586, version=165, score=0.43184716, payload={'id': 'John_Cabess', 'text': \"John Cabess -LRB- also written as John Kabes or John Cabes -RRB- -LRB- c. 1640s-1722 -RRB- was a prominent African trader in the port city of Komenda , part of the Eguafo Kingdom , in modern-day Ghana . He was a major British ally and was a supplier to the British Royal African Company . As a trader , he became a strong economic and political force in the coastal region in the early 1700s , playing an active role in the Komenda Wars , the rise of the Ashanti Empire , the expansion of British involvement in West Africa , and the beginnings of large-scale Atlantic slave trade . Because of his combined economic and political power , historian Kwame Daaku named Cabess one of the `` merchant princes '' of the Gold Coast in the 1700s . He died in 1722 , but his heirs continued to exert economic power in the port for the remainder of the 18th century . \"}, vector=None, shard_key=None)]\n",
      "Heartbreak Ridge was released in IMAX.\n",
      "[ScoredPoint(id=51325, version=145, score=0.39689854, payload={'id': 'Heartbreak_in_Stereo', 'text': 'Heartbreak in Stereo is the first and only studio album by the rock group Pencey Prep . It was released on November 26 , 2001 , then re-released again by Eyeball Records in early 2004 because new fans could not find the album . '}, vector=None, shard_key=None)]\n",
      "Tim Rice wrote anything except Joseph and the Amazing Technicolor Dreamcoat.\n",
      "[ScoredPoint(id=960, version=14, score=0.44262272, payload={'id': '2001-COLON-_A_Space_Odyssey_-LRB-score-RRB-', 'text': \"The 2001 : A Space Odyssey score is an unused film score composed by Alex North for Stanley Kubrick 's 1968 film , 2001 : A Space Odyssey . \"}, vector=None, shard_key=None)]\n",
      "Tommy Chong is a father and brother.\n",
      "[ScoredPoint(id=102570, version=290, score=0.37587434, payload={'id': 'Separated_at_birth', 'text': \"Separated at birth , usually phrased as a question , is a light-hearted media device for pointing out people who are unrelated but bear a notable facial resemblance , implying that they are twins who were separated soon after being born and presumably adopted by separate families .   The title `` Separated at Birth ? '' was a trademark of Spy Publishing Partners , the publishers of the now defunct Spy magazine , a monthly publication that published satire , humor , and investigative journalism from 1986 to 1998 . The magazine would pair two carefully selected photos of two unrelated famous persons and the juxtaposition would highlight their physical similarities to humorous effect .   There were several Separated at Birth ? books issued around the same time , with whimsical comparisons such as Mick Jagger vs. Don Knotts as the fictional film character The Incredible Mr. Limpet . \"}, vector=None, shard_key=None)]\n",
      "Dangal's (film) principal photography commenced on September 19th, 2015.\n",
      "[ScoredPoint(id=104092, version=313, score=0.3719846, payload={'id': 'Theriyama_Unna_Kadhalichitten', 'text': 'Theriyama Unna Kadhalichitten is a 2014 Indian Tamil film written and directed by Ramu . The film features Vijay Vasanth and Resna Pavithran in the lead roles , and was released in October 2014 . '}, vector=None, shard_key=None)]\n",
      "The Chainsmokers won a Grammy Award for Best Dance Recording.\n",
      "[ScoredPoint(id=2086, version=32, score=0.49793822, payload={'id': 'American_Music_Awards_of_1994', 'text': 'The 21st Annual American Music Awards were held on February 7 , 1994 . Whitney Houston was the big winner of the night , winning eight awards . '}, vector=None, shard_key=None)]\n",
      "Bruce Willis is a person.\n",
      "[ScoredPoint(id=54267, version=192, score=0.41897178, payload={'id': 'Lee_Byung-hun', 'text': \"Lee Byung-hun -LRB- 이병헌 born July 12 , 1970 -RRB- is a South Korean actor , singer and model . He has received critical acclaim for his work in a wide range of genres , most notably Joint Security Area -LRB- 2000 -RRB- ; A Bittersweet Life -LRB- 2005 -RRB- ; The Good , the Bad , the Weird -LRB- 2008 -RRB- ; the television series Iris -LRB- 2009 -RRB- ; I Saw the Devil -LRB- 2010 -RRB- ; and Masquerade -LRB- 2012 -RRB- . His critically acclaimed film Inside Men -LRB- 2015 -RRB- won him the Best Actor prize in three prestigious award ceremonies : 52nd Baeksang Art Awards , 37th Blue Dragon Awards and 53rd Grand Bell Awards -- a feat that was unbroken since 2004 . Lee has five films -- Joint Security Area , The Good , the Bad , the Weird , Masquerade , Inside Men and Master -- on the list of highest-grossing films in South Korea .   In the United States , he is known for portraying Storm Shadow in G.I. Joe : The Rise of Cobra -LRB- 2009 -RRB- and its sequel G.I. Joe : Retaliation -LRB- 2013 -RRB- , and starring alongside Bruce Willis in Red 2 -LRB- 2013 -RRB- . He portrayed T-1000 in Terminator Genisys -LRB- 2015 -RRB- and Billy Rocks , a knife-wielding gunslinger , in The Magnificent Seven -LRB- 2016 -RRB- . Lee was the first South Korean actor to present an Oscar at the annual Academy Awards in Los Angeles and is a member of the Academy of Motion Picture Arts and Sciences . Lee and Ahn Sung-ki were the first South Korean actors to imprint their hand and foot prints on the forecourt of Grauman 's Chinese Theatre in Hollywood , Los Angeles . \"}, vector=None, shard_key=None)]\n",
      "Famous in Love stars Matthew Perry.\n",
      "[ScoredPoint(id=104228, version=316, score=0.43856323, payload={'id': 'The_Lovemaster_-LRB-film-RRB-', 'text': 'The Lovemaster is a 1997 American comedy film directed by Michael Goldberg and starring Craig Shoemaker , Courtney Thorne-Smith , George Wendt and Richard Singer . '}, vector=None, shard_key=None)]\n",
      "John Bradley-West acted as Samwell Tarly.\n",
      "[ScoredPoint(id=4023, version=62, score=0.506997, payload={'id': 'Bryan_Brown', 'text': 'Bryan Neathway Brown , AM -LRB- born 23 June 1947 -RRB- is an Australian actor . He has performed in over eighty film and television projects since the late 1970s , both in his native Australia and abroad . Notable films include Breaker Morant -LRB- 1980 -RRB- , Give My Regards to Broad Street -LRB- 1984 -RRB- , F/X -LRB- 1986 -RRB- , Cocktail -LRB- 1988 -RRB- , Gorillas in the Mist -LRB- 1988 -RRB- , F/X2 -LRB- 1991 -RRB- , Along Came Polly -LRB- 2004 -RRB- , Australia -LRB- 2008 -RRB- , Kill Me Three Times -LRB- 2014 -RRB- and Gods of Egypt -LRB- 2016 -RRB- . He was nominated for a Golden Globe Award and an Emmy Award for his performance in the television miniseries The Thorn Birds -LRB- 1983 -RRB- . '}, vector=None, shard_key=None)]\n",
      "Katherine Heigl acted in a series co-written by a team.\n",
      "[ScoredPoint(id=55753, version=214, score=0.44663805, payload={'id': 'Mary_Parent', 'text': \"Mary Parent -LRB- born 1968 -RRB- is an American film producer , and former studio executive . In February 2011 she co-founded Disruption Entertainment , a company with a first-look deal at Paramount Pictures . She was formerly the Chairperson of Metro Goldwyn Mayer 's Worldwide Motion Picture Group . She was a former President of Production for Universal Studios . There , she was responsible for Meet the Fockers , The Bourne Supremacy , Serenity , and other films . In 2004 , Parent and Scott Stuber were named Vice Chairman of Worldwide Production for Universal Pictures . In 2005 , Universal inked a production deal with the duo under the shingle Stuber/Parent Productions . Under Stuber/Parent , she has produced such films as Role Models -LRB- 2008 -RRB- , Welcome Home , Roscoe Jenkins -LRB- 2008 -RRB- , The Kingdom -LRB- 2007 -RRB- , and You , Me and Dupree -LRB- 2006 -RRB- . She produced Guillermo del Toro 's Pacific Rim , the Darren Aronofsky epic Noah and The SpongeBob Movie : Sponge Out of Water -LRB- 2015 -RRB- . Parent worked at New Line Cinema in the 1990s .   In 2008 , Parent placed 28th on The Wall Street Journal 's ' `` 50 Women to Watch 2008 '' list . \"}, vector=None, shard_key=None)]\n",
      "Tom Hanks has been awarded the Presidential Medal of Freedom.\n",
      "[ScoredPoint(id=57839, version=247, score=0.42963514, payload={'id': 'Paul_Selvin_Award', 'text': \"The Paul Selvin Award is a special award presented by the Writers Guild of America . It is to be given `` to that member whose script best embodies the spirit of the constitutional and civil rights and liberties which are indispensable to the survival of free writers everywhere and to whose defense Paul Selvin committed his professional life . '' \"}, vector=None, shard_key=None)]\n",
      "The PlayStation 4 supports online streaming with Share Play.\n",
      "[ScoredPoint(id=54645, version=195, score=0.49462438, payload={'id': 'Life_with_PlayStation', 'text': 'Life with PlayStation was an online multimedia application for the PlayStation 3 video game console on the PlayStation Network . The application had four channels , all of which revolved around a virtual globe that displayed information according to the channel . The application also included a client for Folding@home, a distributed computing project aimed at disease research . the service has been discontinued . '}, vector=None, shard_key=None)]\n",
      "Drax the Destroyer is a character that is part of Marvel comics.\n",
      "[ScoredPoint(id=52371, version=163, score=0.49255282, payload={'id': 'Imperiex', 'text': \"Imperiex is a fictional character that appears in comic books published by DC Comics . He was the main villain for the `` Our Worlds at War '' crossover . \"}, vector=None, shard_key=None)]\n",
      "There is an American company called Broad Green Pictures.\n",
      "[ScoredPoint(id=101042, version=266, score=0.40458107, payload={'id': 'RLJ_Entertainment', 'text': 'Image Entertainment , Inc. is an American independent licensee , producer and distributor of entertainment programming and film and television productions in North America , with approximately 3,200 exclusive DVD titles and approximately 340 exclusive CD titles in domestic release , and approximately 450 programs internationally via sublicense agreements . For many of its titles , Image has exclusive audio and broadcast rights as well as digital download rights to approximately 2,100 video programs and over 400 audio programs containing more than 6,000 tracks . The company is headquartered in Chatsworth , California . '}, vector=None, shard_key=None)]\n",
      "The Caracazo began exclusively in September.\n",
      "[ScoredPoint(id=715, version=11, score=0.3780194, payload={'id': '2009_Volta_a_Catalunya', 'text': 'The 2009 Volta a Catalunya was the 89th edition of the Volta . It took place between 18 May and 24 May , and was part of both the ProTour and the inaugural World Calendar . It began with a short individual time trial in Lloret de Mar and ended in Montmeló at the Circuit de Catalunya . '}, vector=None, shard_key=None)]\n",
      "Someone born in 1946 stars in Father of the Bride.\n",
      "[ScoredPoint(id=4019, version=62, score=0.50825655, payload={'id': 'Bob_Dishy', 'text': \"Bob Dishy -LRB- born January 12 , 1934 -RRB- is an American actor of stage , film , and television .   Dishy was born in Brooklyn , New York , the son of Amy -LRB- Barazani -RRB- and Nissim Dishy . He is married to former actress Judy Graubart -LRB- The Electric Company -RRB- .   His film appearances included Lovers and Other Strangers -LRB- 1970 -RRB- , I Wonder Who 's Killing Her Now ? -LRB- 1975 -RRB- , The Big Bus -LRB- 1976 -RRB- , The Last Married Couple in America -LRB- 1980 -RRB- , First Family -LRB- 1980 -RRB- , Author ! Author ! -LRB- 1982 -RRB- , Brighton Beach Memoirs -LRB- 1986 -RRB- , Critical Condition -LRB- 1987 -RRB- , Stay Tuned -LRB- 1992 -RRB- , Used People -LRB- 1992 -RRB- , Don Juan DeMarco -LRB- 1994 -RRB- , Jungle 2 Jungle -LRB- 1997 -RRB- and Along Came Polly -LRB- 2004 -RRB- . He was a regular on That Was The Week That Was , a weekly satirical series that aired on NBC-TV in 1964-65 .   He appeared on Broadway in : \"}, vector=None, shard_key=None)]\n",
      "Ancient Algeria has known many empires and dynasties, including Zirid.\n",
      "[ScoredPoint(id=3360, version=52, score=0.5372857, payload={'id': 'Berbers', 'text': \"Berbers or Amazighen -LRB- ⵉⵎⴰⵣⵉⵖⵏ Imaziɣen ; singular : ⴰⵎⴰⵣⵉⵖ Amaziɣ / Amazigh -RRB- are an ethnic group indigenous to North Africa . They are distributed in an area stretching from the Atlantic Ocean to the Siwa Oasis in Egypt , and from the Mediterranean Sea to the Niger River . Historically , they spoke Berber languages , which together form the Berber branch of the Afro-Asiatic family . Since the Muslim conquest of North Africa in the seventh century , a large number of Berbers inhabiting the Maghreb have acquired different degrees of knowledge of varieties of the languages of North Africa . After the colonization of North Africa by France , `` the French government succeeded in integrating the French language in Algeria by making French the official national language and requiring all education to take place in French . '' Foreign languages , mainly French and to some degree Spanish , inherited from former European colonial powers , are used by most educated Berbers in Algeria and Morocco in some formal contexts , such as higher education or business .   Today , most Berber people live in North Africa , mainly in Libya , Algeria , and Morocco ; Small Berber populations are also found in Niger , Mali , Mauritania , Tunisia , Burkina Faso and Egypt , as well as large immigrant communities living in France , Canada , Belgium , the Netherlands , Germany , and other countries of Europe .   The majority of Berbers are predominantly Sunni Muslim . The Berber identity is usually wider than language and ethnicity , and encompasses the entire history and geography of North Africa . Berbers are not an entirely homogeneous ethnicity and they encompass a range of phenotypes , societies and ancestries . The unifying forces for the Berber people may be their shared language , or a collective identification with Berber heritage and history .   There are some twenty-five to thirty million Berber speakers in North Africa . The number of ethnic Berbers -LRB- including non-Berber speakers -RRB- is far greater , as a large part of the Berbers have acquired other languages over the course of many decades or centuries , and no longer speak Berber today . The majority of North Africa 's population is believed to be Berber in origin , although due to Arabization most ethnic Berbers identify as Arabized Berbers .   Berbers call themselves some variant of the word i-Mazigh-en -LRB- singular : a-Mazigh -RRB- , possibly meaning `` free people '' or `` noble men '' . The name likely had its ancient parallel in the Roman and Greek names for Berbers , Mazices . Some of the best known of the ancient Berbers are the Numidian king Masinissa , king Jugurtha , the Berber-Roman author Apuleius , Saint Augustine of Hippo , and the Berber-Roman general Lusius Quietus , who was instrumental in defeating the major wave of Jewish revolts of 115 -- 117 . Dihya or Kahina was a religious and military leader who led a fierce Berber resistance against the Arab-Muslim expansion in Northwest Africa . Kusaila was a seventh-century leader of the Awraba tribe of the Berber people and King of the Sanhadja confederation . Yusuf ibn Tashfin was king of the Berber Almoravid empire ; Tariq ibn Ziyad the general who conquered Hispania ; Abbas Ibn Firnas , a prolific inventor and early pioneer in aviation ; Ibn Battuta , a medieval explorer who traveled the longest known distances of his time . \"}, vector=None, shard_key=None)]\n",
      "Louis Tomlinson is an English citizen.\n",
      "[ScoredPoint(id=104729, version=323, score=0.40194094, payload={'id': 'Tom_Brodie_-LRB-actor-RRB-', 'text': 'Tom Brodie -LRB- born 1978 -RRB- is an English actor , who first appeared on British television screens as a young boy , and remained active into his early 20s . '}, vector=None, shard_key=None)]\n",
      "Tanzania is a highly multilingual country with languages such as Swahili and English.\n",
      "[ScoredPoint(id=901, version=16, score=0.50384843, payload={'id': '2015_in_Tanzania', 'text': 'The following lists events that will happen during 2015 in Tanzania . '}, vector=None, shard_key=None)]\n"
     ]
    }
   ],
   "source": [
    "for i, batch in enumerate(fever_loader):\n",
    "    valid_step(batch, model)\n",
    "    break"
   ]
  }
 ],
 "metadata": {
  "kernelspec": {
   "display_name": "Python 3",
   "language": "python",
   "name": "python3"
  },
  "language_info": {
   "codemirror_mode": {
    "name": "ipython",
    "version": 3
   },
   "file_extension": ".py",
   "mimetype": "text/x-python",
   "name": "python",
   "nbconvert_exporter": "python",
   "pygments_lexer": "ipython3",
   "version": "3.10.12"
  }
 },
 "nbformat": 4,
 "nbformat_minor": 2
}
