{
 "cells": [
  {
   "cell_type": "code",
   "execution_count": 1,
   "metadata": {},
   "outputs": [],
   "source": [
    "from wiki_dataset import WikiDataset\n",
    "from vector_database import VectorDatabase\n",
    "from torch.utils.data import DataLoader"
   ]
  },
  {
   "cell_type": "code",
   "execution_count": 2,
   "metadata": {},
   "outputs": [],
   "source": [
    "wiki_dataset = WikiDataset(type='train', reduced=True, in_mem=True, num_extra_pages=10000)\n",
    "wiki_dataloader = DataLoader(wiki_dataset, batch_size=8000, num_workers=10, shuffle=False)"
   ]
  },
  {
   "cell_type": "code",
   "execution_count": 3,
   "metadata": {},
   "outputs": [
    {
     "data": {
      "text/plain": [
       "22549"
      ]
     },
     "execution_count": 3,
     "metadata": {},
     "output_type": "execute_result"
    }
   ],
   "source": [
    "len(wiki_dataset)"
   ]
  },
  {
   "cell_type": "code",
   "execution_count": 4,
   "metadata": {},
   "outputs": [
    {
     "name": "stdout",
     "output_type": "stream",
     "text": [
      "Creating collection\n",
      "Block 1/3 done\n",
      "Block 2/3 done\n",
      "Block 3/3 done\n",
      "Time to create collection: 30.72399592399597\n"
     ]
    }
   ],
   "source": [
    "vdb = VectorDatabase(client='docker', wiki_loader=wiki_dataloader)"
   ]
  },
  {
   "cell_type": "code",
   "execution_count": 5,
   "metadata": {},
   "outputs": [
    {
     "data": {
      "text/plain": [
       "{'id': '1966_Green_Bay_Packers_season',\n",
       " 'text': \"The Green Bay Packers season was their 47th in the National Football League . The defending NFL champions had a league-best regular season record of 12 -- 2 , led by eighth-year head coach Vince Lombardi and quarterback Bart Starr , in his eleventh NFL season .   The Packers beat the Dallas Cowboys in the NFL championship game , the Packers ' second consecutive NFL title , fourth under Lombardi , and tenth for the franchise . Two weeks later , the Packers recorded a 35 -- 10 victory over the Kansas City Chiefs in the inaugural AFL-NFL Championship Game , retroactively known as Super Bowl I.   Quarterback Starr was named the league 's most valuable player -LRB- MVP -RRB- in 1966 . Said Cold Hard Football Facts about Starr 's 1966 season , `` Starr , always underappreciated , was at his classic assassin-like best in 1966 , his lone MVP season . He led the league in completion percentage , yards per attempt and passer rating , while his 4.7-to-1 -LSB- touchdown-to-interception -RSB- ratio remains one of the very best in history . Starr , as always , cranked out great performances when he absolutely had to : the 1966 Packers , for example , were the worst rushing team in football , with a meager average of 3.5 -LSB- yards-per-attempt -RSB- on the ground , despite the reputation Lombardi 's Packers still carry with them today as a dominant running team . '' Cold Hard Football Facts also notes that 1966 Packers had the best passer rating differential -LRB- offensive passer rating minus opponents passer rating -RRB- , +56.0 , in the Super Bowl Era .   In 2007 , the 1966 Packers were ranked as the 6th greatest Super Bowl champions on the NFL Network 's documentary series America 's Game : The Super Bowl Champions . \",\n",
       " 'lines': \"0\\tThe Green Bay Packers season was their 47th in the National Football League .\\tGreen Bay Packers\\tGreen Bay Packers\\tseason\\tList of Green Bay Packers seasons\\tNational Football League\\tNational Football League\\n1\\tThe defending NFL champions had a league-best regular season record of 12 -- 2 , led by eighth-year head coach Vince Lombardi and quarterback Bart Starr , in his eleventh NFL season .\\tVince Lombardi\\tVince Lombardi\\tseason\\tList of Green Bay Packers seasons\\tdefending NFL champions\\t1965 NFL Championship Game\\tBart Starr\\tBart Starr\\n2\\t\\n3\\t\\n4\\tThe Packers beat the Dallas Cowboys in the NFL championship game , the Packers ' second consecutive NFL title , fourth under Lombardi , and tenth for the franchise .\\tCowboys\\t1966 Dallas Cowboys season\\tDallas Cowboys\\t1966 Dallas Cowboys season\\tNFL championship game\\t1966 NFL Championship Game\\n5\\tTwo weeks later , the Packers recorded a 35 -- 10 victory over the Kansas City Chiefs in the inaugural AFL-NFL Championship Game , retroactively known as Super Bowl I.\\tNFL Championship Game\\t1966 NFL Championship Game\\tSuper Bowl I\\tSuper Bowl I\\tChiefs\\t1966 Kansas City Chiefs season\\tKansas City Chiefs\\t1966 Kansas City Chiefs season\\tthe inaugural\\tSuper Bowl I\\tAFL-NFL Championship Game\\tSuper Bowl\\n6\\t\\n7\\t\\n8\\tQuarterback Starr was named the league 's most valuable player -LRB- MVP -RRB- in 1966 .\\n9\\tSaid Cold Hard Football Facts about Starr 's 1966 season , `` Starr , always underappreciated , was at his classic assassin-like best in 1966 , his lone MVP season .\\tseason\\tList of Green Bay Packers seasons\\n10\\tHe led the league in completion percentage , yards per attempt and passer rating , while his 4.7-to-1 -LSB- touchdown-to-interception -RSB- ratio remains one of the very best in history .\\tpasser rating\\tpasser rating\\n11\\tStarr , as always , cranked out great performances when he absolutely had to : the 1966 Packers , for example , were the worst rushing team in football , with a meager average of 3.5 -LSB- yards-per-attempt -RSB- on the ground , despite the reputation Lombardi 's Packers still carry with them today as a dominant running team . ''\\n12\\tCold Hard Football Facts also notes that 1966 Packers had the best passer rating differential -LRB- offensive passer rating minus opponents passer rating -RRB- , +56.0 , in the Super Bowl Era .\\tpasser rating\\tpasser rating\\n13\\t\\n14\\t\\n15\\tIn 2007 , the 1966 Packers were ranked as the 6th greatest Super Bowl champions on the NFL Network 's documentary series America 's Game : The Super Bowl Champions .\\tNFL Network\\tNFL Network\\n16\\t\"}"
      ]
     },
     "execution_count": 5,
     "metadata": {},
     "output_type": "execute_result"
    }
   ],
   "source": [
    "wiki_dataset[0]"
   ]
  },
  {
   "cell_type": "code",
   "execution_count": 8,
   "metadata": {},
   "outputs": [],
   "source": [
    "from sentence_transformers import SentenceTransformer\n",
    "\n",
    "wiki_dataloader = DataLoader(wiki_dataset, batch_size=100, num_workers=10, shuffle=False)\n",
    "\n",
    "model = SentenceTransformer('sentence-transformers/all-mpnet-base-v2')\n",
    "\n",
    "missing = []\n",
    "for p in wiki_dataloader:\n",
    "    e = model.encode(p['text'])\n",
    "    r = vdb.search(e, 1)\n",
    "    for i in range(len(r)):\n",
    "        if r[i][0].score < 0.998:\n",
    "            missing.append(p['id'][i])"
   ]
  },
  {
   "cell_type": "code",
   "execution_count": 9,
   "metadata": {},
   "outputs": [
    {
     "data": {
      "text/plain": [
       "0"
      ]
     },
     "execution_count": 9,
     "metadata": {},
     "output_type": "execute_result"
    }
   ],
   "source": [
    "len(missing)"
   ]
  }
 ],
 "metadata": {
  "kernelspec": {
   "display_name": "Python 3",
   "language": "python",
   "name": "python3"
  },
  "language_info": {
   "codemirror_mode": {
    "name": "ipython",
    "version": 3
   },
   "file_extension": ".py",
   "mimetype": "text/x-python",
   "name": "python",
   "nbconvert_exporter": "python",
   "pygments_lexer": "ipython3",
   "version": "3.10.12"
  }
 },
 "nbformat": 4,
 "nbformat_minor": 2
}
