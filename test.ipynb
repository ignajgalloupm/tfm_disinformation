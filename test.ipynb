{
 "cells": [
  {
   "cell_type": "code",
   "execution_count": 1,
   "metadata": {},
   "outputs": [],
   "source": [
    "from wiki_dataset import WikiDataset\n",
    "from vector_database import VectorDatabase\n",
    "from torch.utils.data import DataLoader\n",
    "from fever_dataset import FeverDataset, FeverCollator\n",
    "from embedding_generation import EmbeddingGenerator"
   ]
  },
  {
   "cell_type": "code",
   "execution_count": 2,
   "metadata": {},
   "outputs": [],
   "source": [
    "wiki_dataset = WikiDataset(reduced=True, type='train', in_mem=True, num_extra_pages=0, seed=0)\n",
    "wiki_dataloader = DataLoader(wiki_dataset, batch_size=8192, num_workers=10, shuffle=False)"
   ]
  },
  {
   "cell_type": "code",
   "execution_count": 3,
   "metadata": {},
   "outputs": [
    {
     "name": "stdout",
     "output_type": "stream",
     "text": [
      "Creating collection\n",
      "Block 1/2 done\n",
      "Block 2/2 done\n",
      "Time to create collection: 30.077796459197998\n"
     ]
    }
   ],
   "source": [
    "vdb = VectorDatabase(client='docker', wiki_loader=wiki_dataloader)"
   ]
  },
  {
   "cell_type": "code",
   "execution_count": 4,
   "metadata": {},
   "outputs": [],
   "source": [
    "fever_collator = FeverCollator()\n",
    "fever_dataset = FeverDataset(type='dev')\n",
    "fever_loader = DataLoader(fever_dataset, batch_size=32, num_workers=10, shuffle=False, collate_fn=fever_collator)\n",
    "\n",
    "model = EmbeddingGenerator()"
   ]
  },
  {
   "cell_type": "code",
   "execution_count": 7,
   "metadata": {},
   "outputs": [
    {
     "data": {
      "text/plain": [
       "{'id': 194462,\n",
       " 'verifiable': 'NOT VERIFIABLE',\n",
       " 'label': 'NOT ENOUGH INFO',\n",
       " 'claim': 'Tilda Swinton is a vegan.',\n",
       " 'evidence': {'all_evidence': [None], 'unique_evidence': [set()]}}"
      ]
     },
     "execution_count": 7,
     "metadata": {},
     "output_type": "execute_result"
    }
   ],
   "source": [
    "fever_dataset[1]"
   ]
  },
  {
   "cell_type": "code",
   "execution_count": 36,
   "metadata": {},
   "outputs": [],
   "source": [
    "import torch\n",
    "from torch.cuda.amp import autocast\n",
    "import numpy as np\n",
    "\n",
    "device = torch.device('cuda' if torch.cuda.is_available() else 'cpu')\n",
    "\n",
    "# performs a single validation step\n",
    "def valid_step(input_batch, model):\n",
    "    # get embeddings of the claims\n",
    "    with torch.no_grad():\n",
    "        outputs = model(input_batch['claims'])\n",
    "\n",
    "    # search for similar pages\n",
    "    similar_pages = vdb.search_similar(outputs, 10)\n",
    "    #print(similar_pages)\n",
    "    similar_texts = [[t.payload['text'] for t in s] for s in similar_pages]\n",
    "    similar_ids = [[t.payload['id'] for t in s] for s in similar_pages]\n",
    "    similar_embeds = [[t.vector for t in s] for s in similar_pages]\n",
    "\n",
    "\n",
    "    # check if the evidence is enough\n",
    "    #---------------------------------- only training\n",
    "    target_changes = []\n",
    "    for i, r in enumerate(input_batch['evidence']):\n",
    "        enough_evidence = False\n",
    "        for evidence_set in r['unique_evidence']:\n",
    "            if evidence_set is None or evidence_set.issubset(set(similar_ids[i])):\n",
    "                enough_evidence = True\n",
    "                break\n",
    "        target_changes.append(enough_evidence)\n",
    "\n",
    "    print(target_changes)\n",
    "    print(np.sum(target_changes))\n",
    "    #---------------------------------- only training\n",
    "\n",
    "    targets = [v == 'VERIFIABLE' for v in input_batch['verifiable']]\n",
    "    # dinamically change the target\n",
    "    targets = [t and tc for t, tc in zip(targets, target_changes)]\n",
    "\n",
    "    # input for the NLI model\n",
    "    inputs = torch.tensor(similar_embeds).to(device)\n",
    "    # concat the output of the embedding generator\n",
    "    outputs = torch.cat([inputs, outputs], dim=1)\n",
    "\n",
    "    \n",
    "    print(similar_embeds.shape)\n",
    "\n",
    "    # for s, r in zip(similar_texts, input_batch['claims']):\n",
    "    #     print(r)\n",
    "    #     print(s)\n",
    "    return outputs#, targets"
   ]
  },
  {
   "cell_type": "code",
   "execution_count": 37,
   "metadata": {},
   "outputs": [
    {
     "name": "stdout",
     "output_type": "stream",
     "text": [
      "[True, True, False, True, False, True, False, True, True, True, True, True, False, True, False, True, False, True, True, False, False, True, True, False, False, False, False, False, True, True, True, False]\n",
      "18\n"
     ]
    },
    {
     "ename": "TypeError",
     "evalue": "expected Tensor as element 1 in argument 0, but got numpy.ndarray",
     "output_type": "error",
     "traceback": [
      "\u001b[0;31m---------------------------------------------------------------------------\u001b[0m",
      "\u001b[0;31mTypeError\u001b[0m                                 Traceback (most recent call last)",
      "Cell \u001b[0;32mIn [37], line 2\u001b[0m\n\u001b[1;32m      1\u001b[0m \u001b[38;5;28;01mfor\u001b[39;00m i, batch \u001b[38;5;129;01min\u001b[39;00m \u001b[38;5;28menumerate\u001b[39m(fever_loader):\n\u001b[0;32m----> 2\u001b[0m     \u001b[43mvalid_step\u001b[49m\u001b[43m(\u001b[49m\u001b[43mbatch\u001b[49m\u001b[43m,\u001b[49m\u001b[43m \u001b[49m\u001b[43mmodel\u001b[49m\u001b[43m)\u001b[49m\n\u001b[1;32m      3\u001b[0m     \u001b[38;5;28;01mbreak\u001b[39;00m\n",
      "Cell \u001b[0;32mIn [36], line 43\u001b[0m, in \u001b[0;36mvalid_step\u001b[0;34m(input_batch, model)\u001b[0m\n\u001b[1;32m     41\u001b[0m inputs \u001b[38;5;241m=\u001b[39m torch\u001b[38;5;241m.\u001b[39mtensor(similar_embeds)\u001b[38;5;241m.\u001b[39mto(device)\n\u001b[1;32m     42\u001b[0m \u001b[38;5;66;03m# concat the output of the embedding generator\u001b[39;00m\n\u001b[0;32m---> 43\u001b[0m outputs \u001b[38;5;241m=\u001b[39m \u001b[43mtorch\u001b[49m\u001b[38;5;241;43m.\u001b[39;49m\u001b[43mcat\u001b[49m\u001b[43m(\u001b[49m\u001b[43m[\u001b[49m\u001b[43minputs\u001b[49m\u001b[43m,\u001b[49m\u001b[43m \u001b[49m\u001b[43moutputs\u001b[49m\u001b[43m]\u001b[49m\u001b[43m,\u001b[49m\u001b[43m \u001b[49m\u001b[43mdim\u001b[49m\u001b[38;5;241;43m=\u001b[39;49m\u001b[38;5;241;43m1\u001b[39;49m\u001b[43m)\u001b[49m\n\u001b[1;32m     46\u001b[0m \u001b[38;5;28mprint\u001b[39m(similar_embeds\u001b[38;5;241m.\u001b[39mshape)\n\u001b[1;32m     48\u001b[0m \u001b[38;5;66;03m# for s, r in zip(similar_texts, input_batch['claims']):\u001b[39;00m\n\u001b[1;32m     49\u001b[0m \u001b[38;5;66;03m#     print(r)\u001b[39;00m\n\u001b[1;32m     50\u001b[0m \u001b[38;5;66;03m#     print(s)\u001b[39;00m\n",
      "\u001b[0;31mTypeError\u001b[0m: expected Tensor as element 1 in argument 0, but got numpy.ndarray"
     ]
    }
   ],
   "source": [
    "for i, batch in enumerate(fever_loader):\n",
    "    valid_step(batch, model)\n",
    "    break"
   ]
  }
 ],
 "metadata": {
  "kernelspec": {
   "display_name": "Python 3",
   "language": "python",
   "name": "python3"
  },
  "language_info": {
   "codemirror_mode": {
    "name": "ipython",
    "version": 3
   },
   "file_extension": ".py",
   "mimetype": "text/x-python",
   "name": "python",
   "nbconvert_exporter": "python",
   "pygments_lexer": "ipython3",
   "version": "3.10.12"
  }
 },
 "nbformat": 4,
 "nbformat_minor": 2
}
