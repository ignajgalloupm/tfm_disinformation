{
 "cells": [
  {
   "cell_type": "code",
   "execution_count": 1,
   "metadata": {},
   "outputs": [],
   "source": [
    "from wiki_dataset import WikiDataset\n",
    "from vector_database import VectorDatabase\n",
    "from torch.utils.data import DataLoader\n",
    "from fever_dataset import FeverDataset, FeverCollator\n",
    "from embedding_generation import EmbeddingGenerator"
   ]
  },
  {
   "cell_type": "code",
   "execution_count": 2,
   "metadata": {},
   "outputs": [],
   "source": [
    "wiki_dataset = WikiDataset(reduced=True, type='dev', in_mem=True, num_extra_pages=0)\n",
    "wiki_dataloader = DataLoader(wiki_dataset, batch_size=8000, num_workers=10, shuffle=False)"
   ]
  },
  {
   "cell_type": "code",
   "execution_count": 3,
   "metadata": {},
   "outputs": [
    {
     "name": "stdout",
     "output_type": "stream",
     "text": [
      "Creating collection\n",
      "Block 1/1 done\n",
      "Time to create collection: 2.5375070571899414\n"
     ]
    }
   ],
   "source": [
    "vdb = VectorDatabase(client='docker', wiki_loader=wiki_dataloader)"
   ]
  },
  {
   "cell_type": "code",
   "execution_count": 5,
   "metadata": {},
   "outputs": [],
   "source": [
    "fever_collator = FeverCollator()\n",
    "fever_dataset = FeverDataset(type='dev')\n",
    "fever_loader = DataLoader(fever_dataset, batch_size=32, num_workers=10, shuffle=True, collate_fn=fever_collator)\n",
    "\n",
    "model = EmbeddingGenerator()"
   ]
  },
  {
   "cell_type": "code",
   "execution_count": 9,
   "metadata": {},
   "outputs": [],
   "source": [
    "import torch\n",
    "from torch.cuda.amp import autocast\n",
    "import numpy as np\n",
    "\n",
    "device = torch.device('cuda' if torch.cuda.is_available() else 'cpu')\n",
    "\n",
    "# performs a single validation step\n",
    "def valid_step(input_batch, model):\n",
    "    # get embeddings of the claims\n",
    "    with torch.no_grad():\n",
    "        with autocast():\n",
    "            outputs = model(input_batch['claims'])\n",
    "\n",
    "    # search for similar pages\n",
    "    similar_pages = vdb.search_similar(outputs, 10)\n",
    "    #print(similar_pages)\n",
    "    similar_texts = [[t.payload['text'] for t in s] for s in similar_pages]\n",
    "    similar_ids = [[t.payload['id'] for t in s] for s in similar_pages]\n",
    "    similar_embeds = [[torch.tensor(t.vector) for t in s] for s in similar_pages]\n",
    "\n",
    "\n",
    "    # combine the similar pages into a single tensor\n",
    "    similar_embeds = [torch.stack(s) for s in similar_embeds]\n",
    "\n",
    "    # check if the evidence is enough\n",
    "    targets = []\n",
    "    for i, r in enumerate(input_batch['evidence']):\n",
    "        for evidence_set in r['unique_evidence']:\n",
    "            enough_evidence = False\n",
    "            if evidence_set.issubset(set(similar_ids[i])):\n",
    "                enough_evidence = True\n",
    "                break\n",
    "        targets.append(enough_evidence)\n",
    "\n",
    "    print (targets)\n",
    "    print(np.sum(targets))\n",
    "    # for s, r in zip(similar_texts, input_batch['claims']):\n",
    "    #     print(r)\n",
    "    #     print(s)\n",
    "    return outputs#, targets"
   ]
  },
  {
   "cell_type": "code",
   "execution_count": 10,
   "metadata": {},
   "outputs": [
    {
     "name": "stdout",
     "output_type": "stream",
     "text": [
      "[False, False, False, False, False, False, False, False, False, False, False, False, False, False, False, False, False, False, False, False, False, False, False, False, False, False, False, False, False, False, False, False]\n",
      "0\n"
     ]
    }
   ],
   "source": [
    "for i, batch in enumerate(fever_loader):\n",
    "    valid_step(batch, model)\n",
    "    break"
   ]
  }
 ],
 "metadata": {
  "kernelspec": {
   "display_name": "Python 3",
   "language": "python",
   "name": "python3"
  },
  "language_info": {
   "codemirror_mode": {
    "name": "ipython",
    "version": 3
   },
   "file_extension": ".py",
   "mimetype": "text/x-python",
   "name": "python",
   "nbconvert_exporter": "python",
   "pygments_lexer": "ipython3",
   "version": "3.10.12"
  }
 },
 "nbformat": 4,
 "nbformat_minor": 2
}
